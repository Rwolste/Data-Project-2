{
  "nbformat": 4,
  "nbformat_minor": 0,
  "metadata": {
    "colab": {
      "provenance": []
    },
    "kernelspec": {
      "name": "python3",
      "display_name": "Python 3"
    },
    "language_info": {
      "name": "python"
    }
  },
  "cells": [
    {
      "cell_type": "code",
      "execution_count": 1,
      "metadata": {
        "colab": {
          "base_uri": "https://localhost:8080/"
        },
        "id": "tDKOalC20JSt",
        "outputId": "0ebaa48b-eaf3-49ba-ca37-110a304b648f"
      },
      "outputs": [
        {
          "output_type": "stream",
          "name": "stdout",
          "text": [
            "Cleaned data saved to cleaned_players.csv\n"
          ]
        }
      ],
      "source": [
        "import pandas as pd\n",
        "\n",
        "# Step 1: Load the raw data\n",
        "raw_path = 'dataset - 2020-09-24.csv'\n",
        "df = pd.read_csv(raw_path)\n",
        "\n",
        "# Step 2: Clean column names (lowercase, underscores)\n",
        "df.columns = df.columns.str.lower().str.replace(' ', '_')\n",
        "\n",
        "# Step 3: Fill missing numeric columns with 0 (you can customize this)\n",
        "numeric_cols = df.select_dtypes(include='number').columns\n",
        "df[numeric_cols] = df[numeric_cols].fillna(0)\n",
        "\n",
        "# Step 4: Optional - Convert float columns with no decimals to int\n",
        "df[numeric_cols] = df[numeric_cols].apply(lambda x: x.astype(int) if (x % 1 == 0).all() else x)\n",
        "\n",
        "# Step 5: Save to cleaned CSV\n",
        "cleaned_path = 'cleaned_players.csv'\n",
        "df.to_csv(cleaned_path, index=False)\n",
        "\n",
        "print(f\"Cleaned data saved to {cleaned_path}\")\n"
      ]
    }
  ]
}